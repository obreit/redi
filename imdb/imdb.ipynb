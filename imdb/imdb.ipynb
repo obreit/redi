{
 "cells": [
  {
   "cell_type": "code",
   "execution_count": 3,
   "metadata": {},
   "outputs": [],
   "source": [
    "import pandas as pd\n",
    "import numpy as np"
   ]
  },
  {
   "cell_type": "code",
   "execution_count": 4,
   "metadata": {},
   "outputs": [
    {
     "name": "stderr",
     "output_type": "stream",
     "text": [
      "/var/folders/xm/nt85m0h948dgt0jbkz1yr62h0000gn/T/ipykernel_57193/2447817183.py:1: DtypeWarning: Columns (4) have mixed types. Specify dtype option on import or set low_memory=False.\n",
      "  titles = pd.read_csv(\"./data/title.basics.tsv.gz\", sep='\\t', header=0)\n"
     ]
    }
   ],
   "source": [
    "titles = pd.read_csv(\"./data/title.basics.tsv.gz\", sep='\\t', header=0)"
   ]
  },
  {
   "cell_type": "code",
   "execution_count": 254,
   "metadata": {},
   "outputs": [
    {
     "data": {
      "text/html": [
       "<div>\n",
       "<style scoped>\n",
       "    .dataframe tbody tr th:only-of-type {\n",
       "        vertical-align: middle;\n",
       "    }\n",
       "\n",
       "    .dataframe tbody tr th {\n",
       "        vertical-align: top;\n",
       "    }\n",
       "\n",
       "    .dataframe thead th {\n",
       "        text-align: right;\n",
       "    }\n",
       "</style>\n",
       "<table border=\"1\" class=\"dataframe\">\n",
       "  <thead>\n",
       "    <tr style=\"text-align: right;\">\n",
       "      <th></th>\n",
       "      <th>tconst</th>\n",
       "      <th>titleType</th>\n",
       "      <th>primaryTitle</th>\n",
       "      <th>originalTitle</th>\n",
       "      <th>isAdult</th>\n",
       "      <th>startYear</th>\n",
       "      <th>endYear</th>\n",
       "      <th>runtimeMinutes</th>\n",
       "      <th>genres</th>\n",
       "    </tr>\n",
       "  </thead>\n",
       "  <tbody>\n",
       "    <tr>\n",
       "      <th>0</th>\n",
       "      <td>tt0000001</td>\n",
       "      <td>short</td>\n",
       "      <td>Carmencita</td>\n",
       "      <td>Carmencita</td>\n",
       "      <td>0</td>\n",
       "      <td>1894</td>\n",
       "      <td>\\N</td>\n",
       "      <td>1</td>\n",
       "      <td>Documentary,Short</td>\n",
       "    </tr>\n",
       "    <tr>\n",
       "      <th>1</th>\n",
       "      <td>tt0000002</td>\n",
       "      <td>short</td>\n",
       "      <td>Le clown et ses chiens</td>\n",
       "      <td>Le clown et ses chiens</td>\n",
       "      <td>0</td>\n",
       "      <td>1892</td>\n",
       "      <td>\\N</td>\n",
       "      <td>5</td>\n",
       "      <td>Animation,Short</td>\n",
       "    </tr>\n",
       "    <tr>\n",
       "      <th>2</th>\n",
       "      <td>tt0000003</td>\n",
       "      <td>short</td>\n",
       "      <td>Pauvre Pierrot</td>\n",
       "      <td>Pauvre Pierrot</td>\n",
       "      <td>0</td>\n",
       "      <td>1892</td>\n",
       "      <td>\\N</td>\n",
       "      <td>4</td>\n",
       "      <td>Animation,Comedy,Romance</td>\n",
       "    </tr>\n",
       "    <tr>\n",
       "      <th>3</th>\n",
       "      <td>tt0000004</td>\n",
       "      <td>short</td>\n",
       "      <td>Un bon bock</td>\n",
       "      <td>Un bon bock</td>\n",
       "      <td>0</td>\n",
       "      <td>1892</td>\n",
       "      <td>\\N</td>\n",
       "      <td>12</td>\n",
       "      <td>Animation,Short</td>\n",
       "    </tr>\n",
       "    <tr>\n",
       "      <th>4</th>\n",
       "      <td>tt0000005</td>\n",
       "      <td>short</td>\n",
       "      <td>Blacksmith Scene</td>\n",
       "      <td>Blacksmith Scene</td>\n",
       "      <td>0</td>\n",
       "      <td>1893</td>\n",
       "      <td>\\N</td>\n",
       "      <td>1</td>\n",
       "      <td>Comedy,Short</td>\n",
       "    </tr>\n",
       "    <tr>\n",
       "      <th>5</th>\n",
       "      <td>tt0000006</td>\n",
       "      <td>short</td>\n",
       "      <td>Chinese Opium Den</td>\n",
       "      <td>Chinese Opium Den</td>\n",
       "      <td>0</td>\n",
       "      <td>1894</td>\n",
       "      <td>\\N</td>\n",
       "      <td>1</td>\n",
       "      <td>Short</td>\n",
       "    </tr>\n",
       "    <tr>\n",
       "      <th>6</th>\n",
       "      <td>tt0000007</td>\n",
       "      <td>short</td>\n",
       "      <td>Corbett and Courtney Before the Kinetograph</td>\n",
       "      <td>Corbett and Courtney Before the Kinetograph</td>\n",
       "      <td>0</td>\n",
       "      <td>1894</td>\n",
       "      <td>\\N</td>\n",
       "      <td>1</td>\n",
       "      <td>Short,Sport</td>\n",
       "    </tr>\n",
       "    <tr>\n",
       "      <th>7</th>\n",
       "      <td>tt0000008</td>\n",
       "      <td>short</td>\n",
       "      <td>Edison Kinetoscopic Record of a Sneeze</td>\n",
       "      <td>Edison Kinetoscopic Record of a Sneeze</td>\n",
       "      <td>0</td>\n",
       "      <td>1894</td>\n",
       "      <td>\\N</td>\n",
       "      <td>1</td>\n",
       "      <td>Documentary,Short</td>\n",
       "    </tr>\n",
       "    <tr>\n",
       "      <th>8</th>\n",
       "      <td>tt0000009</td>\n",
       "      <td>movie</td>\n",
       "      <td>Miss Jerry</td>\n",
       "      <td>Miss Jerry</td>\n",
       "      <td>0</td>\n",
       "      <td>1894</td>\n",
       "      <td>\\N</td>\n",
       "      <td>45</td>\n",
       "      <td>Romance</td>\n",
       "    </tr>\n",
       "    <tr>\n",
       "      <th>9</th>\n",
       "      <td>tt0000010</td>\n",
       "      <td>short</td>\n",
       "      <td>Leaving the Factory</td>\n",
       "      <td>La sortie de l'usine Lumière à Lyon</td>\n",
       "      <td>0</td>\n",
       "      <td>1895</td>\n",
       "      <td>\\N</td>\n",
       "      <td>1</td>\n",
       "      <td>Documentary,Short</td>\n",
       "    </tr>\n",
       "  </tbody>\n",
       "</table>\n",
       "</div>"
      ],
      "text/plain": [
       "      tconst titleType                                 primaryTitle  \\\n",
       "0  tt0000001     short                                   Carmencita   \n",
       "1  tt0000002     short                       Le clown et ses chiens   \n",
       "2  tt0000003     short                               Pauvre Pierrot   \n",
       "3  tt0000004     short                                  Un bon bock   \n",
       "4  tt0000005     short                             Blacksmith Scene   \n",
       "5  tt0000006     short                            Chinese Opium Den   \n",
       "6  tt0000007     short  Corbett and Courtney Before the Kinetograph   \n",
       "7  tt0000008     short       Edison Kinetoscopic Record of a Sneeze   \n",
       "8  tt0000009     movie                                   Miss Jerry   \n",
       "9  tt0000010     short                          Leaving the Factory   \n",
       "\n",
       "                                 originalTitle isAdult startYear endYear  \\\n",
       "0                                   Carmencita       0      1894      \\N   \n",
       "1                       Le clown et ses chiens       0      1892      \\N   \n",
       "2                               Pauvre Pierrot       0      1892      \\N   \n",
       "3                                  Un bon bock       0      1892      \\N   \n",
       "4                             Blacksmith Scene       0      1893      \\N   \n",
       "5                            Chinese Opium Den       0      1894      \\N   \n",
       "6  Corbett and Courtney Before the Kinetograph       0      1894      \\N   \n",
       "7       Edison Kinetoscopic Record of a Sneeze       0      1894      \\N   \n",
       "8                                   Miss Jerry       0      1894      \\N   \n",
       "9          La sortie de l'usine Lumière à Lyon       0      1895      \\N   \n",
       "\n",
       "  runtimeMinutes                    genres  \n",
       "0              1         Documentary,Short  \n",
       "1              5           Animation,Short  \n",
       "2              4  Animation,Comedy,Romance  \n",
       "3             12           Animation,Short  \n",
       "4              1              Comedy,Short  \n",
       "5              1                     Short  \n",
       "6              1               Short,Sport  \n",
       "7              1         Documentary,Short  \n",
       "8             45                   Romance  \n",
       "9              1         Documentary,Short  "
      ]
     },
     "execution_count": 254,
     "metadata": {},
     "output_type": "execute_result"
    }
   ],
   "source": [
    "titles.head(10)"
   ]
  },
  {
   "cell_type": "code",
   "execution_count": 26,
   "metadata": {},
   "outputs": [],
   "source": [
    "movies = titles[titles['titleType']=='movie'].copy()\n",
    "\n",
    "# Why doesn't this work?\n",
    "# movies = movies[movies['startYear'] > 2000]"
   ]
  },
  {
   "cell_type": "code",
   "execution_count": 27,
   "metadata": {},
   "outputs": [],
   "source": [
    "# elements of startYear are strings (csv files don't contain type information)\n",
    "type(movies['startYear'].iloc[0])\n",
    "\n",
    "# simple casting doesn't work. '\\N' is used as special null value in the dataset\n",
    "#movies['startYear'].astype(int)\n",
    "#pd.to_numeric(movies['startYear'])\n",
    "\n",
    "# replace '\\N' with panda null value\n",
    "movies.loc[movies['startYear']=='\\\\N', 'startYear'] = pd.NA\n",
    "\n",
    "# Simple casting still doesn't work\n",
    "# See http://pandas.pydata.org/pandas-docs/stable/user_guide/gotchas.html#support-for-integer-na\n",
    "# movies['startYear'].astype(int)\n",
    "\n",
    "# possible options\n",
    "#pd.to_numeric(movies['startYear']) # --> creates float types \n",
    "#movies['startYear'].astype(pd.Int64Dtype()) # --> pandas experimental integer type that supports null values\n",
    "\n",
    "# Other options could be to assign dummy values for null (e.g. -1) and do `astype(int)`. \n",
    "# But this can create other issues (for example, if the dummy value is actually a possible value the column can have)\n",
    "\n",
    "movies['startYear'] = movies['startYear'].astype(pd.Int64Dtype())"
   ]
  },
  {
   "cell_type": "code",
   "execution_count": 359,
   "metadata": {},
   "outputs": [],
   "source": [
    "movies = movies[movies['startYear'] > 2000]"
   ]
  },
  {
   "cell_type": "markdown",
   "metadata": {},
   "source": [
    "### Transformation example on string column + `explode`"
   ]
  },
  {
   "cell_type": "markdown",
   "metadata": {},
   "source": [
    "#### Count how many movies there are per genre"
   ]
  },
  {
   "cell_type": "code",
   "execution_count": 360,
   "metadata": {},
   "outputs": [
    {
     "data": {
      "text/plain": [
       "11636               Action,Crime\n",
       "13081                Documentary\n",
       "34800     Comedy,Fantasy,Romance\n",
       "61112                      Drama\n",
       "67486                      Drama\n",
       "67664                      Drama\n",
       "69151                      Drama\n",
       "76052                Documentary\n",
       "80549                     Horror\n",
       "86791       Comedy,Horror,Sci-Fi\n",
       "93928                      Drama\n",
       "94103         Action,Crime,Drama\n",
       "95140                Documentary\n",
       "95593                         \\N\n",
       "98033       Comedy,Drama,Fantasy\n",
       "101031           Biography,Drama\n",
       "101475                        \\N\n",
       "102645               Documentary\n",
       "106095            Comedy,Mystery\n",
       "106657               Documentary\n",
       "Name: genres, dtype: object"
      ]
     },
     "execution_count": 360,
     "metadata": {},
     "output_type": "execute_result"
    }
   ],
   "source": [
    "movies['genres'].head(20)"
   ]
  },
  {
   "cell_type": "code",
   "execution_count": 361,
   "metadata": {},
   "outputs": [
    {
     "data": {
      "text/plain": [
       "str"
      ]
     },
     "execution_count": 361,
     "metadata": {},
     "output_type": "execute_result"
    }
   ],
   "source": [
    "type(movies['genres'].iloc[0])"
   ]
  },
  {
   "cell_type": "code",
   "execution_count": 362,
   "metadata": {},
   "outputs": [
    {
     "data": {
      "text/plain": [
       "11636                  [Action, Crime]\n",
       "13081                    [Documentary]\n",
       "34800       [Comedy, Fantasy, Romance]\n",
       "61112                          [Drama]\n",
       "67486                          [Drama]\n",
       "                       ...            \n",
       "10169350                 [Documentary]\n",
       "10169377                 [Documentary]\n",
       "10169389                      [Comedy]\n",
       "10169399                       [Drama]\n",
       "10169409                 [Documentary]\n",
       "Name: genres, Length: 305653, dtype: object"
      ]
     },
     "execution_count": 362,
     "metadata": {},
     "output_type": "execute_result"
    }
   ],
   "source": [
    "movies.loc[movies['genres']=='\\\\N', 'genres'] = pd.NA\n",
    "\n",
    "# with apply\n",
    "\n",
    "# lambda\n",
    "movies['genres'].apply(lambda genre: genre.split(',') if pd.notna(genre) else pd.NA)\n",
    "\n",
    "# function (does the same as the `apply` above)\n",
    "def split_genre_string(genre: str) -> str:\n",
    "    if pd.isnull(genre):\n",
    "        return pd.NA\n",
    "    else:\n",
    "        return genre.split(',')\n",
    "\n",
    "movies['genres'].apply(split_genre_string)\n",
    "\n",
    "# built-in functionality\n",
    "movies['genres'].str.split(',')"
   ]
  },
  {
   "cell_type": "code",
   "execution_count": 344,
   "metadata": {},
   "outputs": [
    {
     "name": "stdout",
     "output_type": "stream",
     "text": [
      "204 ms ± 5.01 ms per loop (mean ± std. dev. of 7 runs, 10 loops each)\n",
      "108 ms ± 1.32 ms per loop (mean ± std. dev. of 7 runs, 10 loops each)\n"
     ]
    }
   ],
   "source": [
    "# comparison of apply vs. built-in functionality\n",
    "%timeit -n 10 movies['genres'].apply(lambda genre: genre.split(',') if pd.notna(genre) else pd.NA) \n",
    "%timeit -n 10 movies['genres'].str.split(',')"
   ]
  },
  {
   "cell_type": "code",
   "execution_count": 363,
   "metadata": {},
   "outputs": [],
   "source": [
    "movies['genres'] = movies['genres'].str.split(',')"
   ]
  },
  {
   "cell_type": "code",
   "execution_count": 364,
   "metadata": {},
   "outputs": [
    {
     "data": {
      "text/plain": [
       "11636                  [Action, Crime]\n",
       "13081                    [Documentary]\n",
       "34800       [Comedy, Fantasy, Romance]\n",
       "61112                          [Drama]\n",
       "67486                          [Drama]\n",
       "                       ...            \n",
       "10169350                 [Documentary]\n",
       "10169377                 [Documentary]\n",
       "10169389                      [Comedy]\n",
       "10169399                       [Drama]\n",
       "10169409                 [Documentary]\n",
       "Name: genres, Length: 305653, dtype: object"
      ]
     },
     "execution_count": 364,
     "metadata": {},
     "output_type": "execute_result"
    }
   ],
   "source": [
    "movies['genres']"
   ]
  },
  {
   "cell_type": "code",
   "execution_count": 365,
   "metadata": {},
   "outputs": [
    {
     "data": {
      "text/plain": [
       "11636            Action\n",
       "11636             Crime\n",
       "13081       Documentary\n",
       "34800            Comedy\n",
       "34800           Fantasy\n",
       "               ...     \n",
       "10169350    Documentary\n",
       "10169377    Documentary\n",
       "10169389         Comedy\n",
       "10169399          Drama\n",
       "10169409    Documentary\n",
       "Name: genres, Length: 464203, dtype: object"
      ]
     },
     "execution_count": 365,
     "metadata": {},
     "output_type": "execute_result"
    }
   ],
   "source": [
    "movies['genres'].explode()"
   ]
  },
  {
   "cell_type": "code",
   "execution_count": 366,
   "metadata": {},
   "outputs": [
    {
     "data": {
      "text/plain": [
       "genres\n",
       "Drama          105590\n",
       "Documentary     95062\n",
       "Comedy          51707\n",
       "Thriller        23284\n",
       "Action          22288\n",
       "Horror          21362\n",
       "Romance         20628\n",
       "Crime           14739\n",
       "Biography       11792\n",
       "Adventure       11569\n",
       "Family           9933\n",
       "Mystery          9477\n",
       "History          8810\n",
       "Music            8408\n",
       "Fantasy          7366\n",
       "Sci-Fi           6386\n",
       "Animation        5879\n",
       "Sport            5051\n",
       "Musical          3023\n",
       "War              2847\n",
       "Adult            1731\n",
       "News             1341\n",
       "Western           916\n",
       "Reality-TV        452\n",
       "Talk-Show         150\n",
       "Game-Show          17\n",
       "Short               1\n",
       "Name: count, dtype: int64"
      ]
     },
     "execution_count": 366,
     "metadata": {},
     "output_type": "execute_result"
    }
   ],
   "source": [
    "movies_flat_genres = movies.explode(column='genres')\n",
    "movies_flat_genres['genres'].value_counts()"
   ]
  },
  {
   "cell_type": "markdown",
   "metadata": {},
   "source": [
    "###TODO: maybe How many movies are assigned 0, 1 or multiple genres?"
   ]
  },
  {
   "cell_type": "code",
   "execution_count": 367,
   "metadata": {},
   "outputs": [
    {
     "data": {
      "text/plain": [
       "11636       2\n",
       "13081       1\n",
       "34800       3\n",
       "61112       1\n",
       "67486       1\n",
       "           ..\n",
       "10169350    1\n",
       "10169377    1\n",
       "10169389    1\n",
       "10169399    1\n",
       "10169409    1\n",
       "Name: genres, Length: 305653, dtype: object"
      ]
     },
     "execution_count": 367,
     "metadata": {},
     "output_type": "execute_result"
    }
   ],
   "source": [
    "# 0 genres\n",
    "missing_genre = (movies_flat_genres['genres']=='\\\\N')\n",
    "movies_flat_genres[missing_genre].shape\n",
    "\n",
    "# 1 genre\n",
    "genre_count_per_movie = movies_flat_genres[~missing_genre].groupby('tconst').size()\n",
    "genre_count_per_movie[genre_count_per_movie == 1].shape\n",
    "\n",
    "# multiple genres\n",
    "genre_count_per_movie[genre_count_per_movie > 1].shape\n",
    "\n",
    "# option 2\n",
    "movies['genres'].str.len()"
   ]
  },
  {
   "cell_type": "markdown",
   "metadata": {},
   "source": [
    "### What's the movie with the highest rating?\n",
    "### What's the movie with the most number of votes?\n",
    "### What are the 10 movies with the most number of votes?"
   ]
  },
  {
   "cell_type": "code",
   "execution_count": 28,
   "metadata": {},
   "outputs": [],
   "source": [
    "ratings = pd.read_csv(\"https://datasets.imdbws.com/title.ratings.tsv.gz\", sep='\\t', header=0)"
   ]
  },
  {
   "cell_type": "code",
   "execution_count": 29,
   "metadata": {},
   "outputs": [
    {
     "name": "stdout",
     "output_type": "stream",
     "text": [
      "<class 'pandas.core.frame.DataFrame'>\n",
      "RangeIndex: 1351320 entries, 0 to 1351319\n",
      "Data columns (total 3 columns):\n",
      " #   Column         Non-Null Count    Dtype  \n",
      "---  ------         --------------    -----  \n",
      " 0   tconst         1351320 non-null  object \n",
      " 1   averageRating  1351320 non-null  float64\n",
      " 2   numVotes       1351320 non-null  int64  \n",
      "dtypes: float64(1), int64(1), object(1)\n",
      "memory usage: 30.9+ MB\n"
     ]
    }
   ],
   "source": [
    "# When all rows are non-null for a column, pandas can infer correct numeric types\n",
    "ratings.info()"
   ]
  },
  {
   "cell_type": "code",
   "execution_count": 30,
   "metadata": {},
   "outputs": [],
   "source": [
    "movies_with_ratings = movies.merge(ratings, on='tconst')"
   ]
  },
  {
   "cell_type": "code",
   "execution_count": 371,
   "metadata": {},
   "outputs": [
    {
     "data": {
      "text/plain": [
       "9.1"
      ]
     },
     "execution_count": 371,
     "metadata": {},
     "output_type": "execute_result"
    }
   ],
   "source": [
    "movies_with_ratings[movies_with_ratings['numVotes'] > 20000]['averageRating'].max()"
   ]
  },
  {
   "cell_type": "code",
   "execution_count": 372,
   "metadata": {},
   "outputs": [
    {
     "data": {
      "text/plain": [
       "tconst                         tt0468569\n",
       "titleType                          movie\n",
       "primaryTitle             The Dark Knight\n",
       "originalTitle            The Dark Knight\n",
       "isAdult                                0\n",
       "startYear                           2008\n",
       "endYear                               \\N\n",
       "runtimeMinutes                       152\n",
       "genres            [Action, Crime, Drama]\n",
       "averageRating                        9.0\n",
       "numVotes                         2780231\n",
       "Name: 17184, dtype: object"
      ]
     },
     "execution_count": 372,
     "metadata": {},
     "output_type": "execute_result"
    }
   ],
   "source": [
    "movies_with_ratings.loc[movies_with_ratings['numVotes'].idxmax()]"
   ]
  },
  {
   "cell_type": "code",
   "execution_count": 373,
   "metadata": {},
   "outputs": [
    {
     "data": {
      "text/html": [
       "<div>\n",
       "<style scoped>\n",
       "    .dataframe tbody tr th:only-of-type {\n",
       "        vertical-align: middle;\n",
       "    }\n",
       "\n",
       "    .dataframe tbody tr th {\n",
       "        vertical-align: top;\n",
       "    }\n",
       "\n",
       "    .dataframe thead th {\n",
       "        text-align: right;\n",
       "    }\n",
       "</style>\n",
       "<table border=\"1\" class=\"dataframe\">\n",
       "  <thead>\n",
       "    <tr style=\"text-align: right;\">\n",
       "      <th></th>\n",
       "      <th>tconst</th>\n",
       "      <th>titleType</th>\n",
       "      <th>primaryTitle</th>\n",
       "      <th>originalTitle</th>\n",
       "      <th>isAdult</th>\n",
       "      <th>startYear</th>\n",
       "      <th>endYear</th>\n",
       "      <th>runtimeMinutes</th>\n",
       "      <th>genres</th>\n",
       "      <th>averageRating</th>\n",
       "      <th>numVotes</th>\n",
       "    </tr>\n",
       "  </thead>\n",
       "  <tbody>\n",
       "    <tr>\n",
       "      <th>17184</th>\n",
       "      <td>tt0468569</td>\n",
       "      <td>movie</td>\n",
       "      <td>The Dark Knight</td>\n",
       "      <td>The Dark Knight</td>\n",
       "      <td>0</td>\n",
       "      <td>2008</td>\n",
       "      <td>\\N</td>\n",
       "      <td>152</td>\n",
       "      <td>[Action, Crime, Drama]</td>\n",
       "      <td>9.0</td>\n",
       "      <td>2780231</td>\n",
       "    </tr>\n",
       "    <tr>\n",
       "      <th>53254</th>\n",
       "      <td>tt1375666</td>\n",
       "      <td>movie</td>\n",
       "      <td>Inception</td>\n",
       "      <td>Inception</td>\n",
       "      <td>0</td>\n",
       "      <td>2010</td>\n",
       "      <td>\\N</td>\n",
       "      <td>148</td>\n",
       "      <td>[Action, Adventure, Sci-Fi]</td>\n",
       "      <td>8.8</td>\n",
       "      <td>2468126</td>\n",
       "    </tr>\n",
       "    <tr>\n",
       "      <th>21884</th>\n",
       "      <td>tt0816692</td>\n",
       "      <td>movie</td>\n",
       "      <td>Interstellar</td>\n",
       "      <td>Interstellar</td>\n",
       "      <td>0</td>\n",
       "      <td>2014</td>\n",
       "      <td>\\N</td>\n",
       "      <td>169</td>\n",
       "      <td>[Adventure, Drama, Sci-Fi]</td>\n",
       "      <td>8.7</td>\n",
       "      <td>1988554</td>\n",
       "    </tr>\n",
       "    <tr>\n",
       "      <th>51</th>\n",
       "      <td>tt0120737</td>\n",
       "      <td>movie</td>\n",
       "      <td>The Lord of the Rings: The Fellowship of the Ring</td>\n",
       "      <td>The Lord of the Rings: The Fellowship of the Ring</td>\n",
       "      <td>0</td>\n",
       "      <td>2001</td>\n",
       "      <td>\\N</td>\n",
       "      <td>178</td>\n",
       "      <td>[Action, Adventure, Drama]</td>\n",
       "      <td>8.8</td>\n",
       "      <td>1944643</td>\n",
       "    </tr>\n",
       "    <tr>\n",
       "      <th>185</th>\n",
       "      <td>tt0167260</td>\n",
       "      <td>movie</td>\n",
       "      <td>The Lord of the Rings: The Return of the King</td>\n",
       "      <td>The Lord of the Rings: The Return of the King</td>\n",
       "      <td>0</td>\n",
       "      <td>2003</td>\n",
       "      <td>\\N</td>\n",
       "      <td>201</td>\n",
       "      <td>[Action, Adventure, Drama]</td>\n",
       "      <td>9.0</td>\n",
       "      <td>1916434</td>\n",
       "    </tr>\n",
       "    <tr>\n",
       "      <th>51339</th>\n",
       "      <td>tt1345836</td>\n",
       "      <td>movie</td>\n",
       "      <td>The Dark Knight Rises</td>\n",
       "      <td>The Dark Knight Rises</td>\n",
       "      <td>0</td>\n",
       "      <td>2012</td>\n",
       "      <td>\\N</td>\n",
       "      <td>164</td>\n",
       "      <td>[Action, Drama, Thriller]</td>\n",
       "      <td>8.4</td>\n",
       "      <td>1775988</td>\n",
       "    </tr>\n",
       "    <tr>\n",
       "      <th>186</th>\n",
       "      <td>tt0167261</td>\n",
       "      <td>movie</td>\n",
       "      <td>The Lord of the Rings: The Two Towers</td>\n",
       "      <td>The Lord of the Rings: The Two Towers</td>\n",
       "      <td>0</td>\n",
       "      <td>2002</td>\n",
       "      <td>\\N</td>\n",
       "      <td>179</td>\n",
       "      <td>[Action, Adventure, Drama]</td>\n",
       "      <td>8.8</td>\n",
       "      <td>1729339</td>\n",
       "    </tr>\n",
       "    <tr>\n",
       "      <th>78228</th>\n",
       "      <td>tt1853728</td>\n",
       "      <td>movie</td>\n",
       "      <td>Django Unchained</td>\n",
       "      <td>Django Unchained</td>\n",
       "      <td>0</td>\n",
       "      <td>2012</td>\n",
       "      <td>\\N</td>\n",
       "      <td>165</td>\n",
       "      <td>[Drama, Western]</td>\n",
       "      <td>8.5</td>\n",
       "      <td>1634586</td>\n",
       "    </tr>\n",
       "    <tr>\n",
       "      <th>8881</th>\n",
       "      <td>tt0372784</td>\n",
       "      <td>movie</td>\n",
       "      <td>Batman Begins</td>\n",
       "      <td>Batman Begins</td>\n",
       "      <td>0</td>\n",
       "      <td>2005</td>\n",
       "      <td>\\N</td>\n",
       "      <td>140</td>\n",
       "      <td>[Action, Crime, Drama]</td>\n",
       "      <td>8.2</td>\n",
       "      <td>1534316</td>\n",
       "    </tr>\n",
       "    <tr>\n",
       "      <th>7887</th>\n",
       "      <td>tt0361748</td>\n",
       "      <td>movie</td>\n",
       "      <td>Inglourious Basterds</td>\n",
       "      <td>Inglourious Basterds</td>\n",
       "      <td>0</td>\n",
       "      <td>2009</td>\n",
       "      <td>\\N</td>\n",
       "      <td>153</td>\n",
       "      <td>[Adventure, Drama, War]</td>\n",
       "      <td>8.3</td>\n",
       "      <td>1524621</td>\n",
       "    </tr>\n",
       "  </tbody>\n",
       "</table>\n",
       "</div>"
      ],
      "text/plain": [
       "          tconst titleType                                       primaryTitle  \\\n",
       "17184  tt0468569     movie                                    The Dark Knight   \n",
       "53254  tt1375666     movie                                          Inception   \n",
       "21884  tt0816692     movie                                       Interstellar   \n",
       "51     tt0120737     movie  The Lord of the Rings: The Fellowship of the Ring   \n",
       "185    tt0167260     movie      The Lord of the Rings: The Return of the King   \n",
       "51339  tt1345836     movie                              The Dark Knight Rises   \n",
       "186    tt0167261     movie              The Lord of the Rings: The Two Towers   \n",
       "78228  tt1853728     movie                                   Django Unchained   \n",
       "8881   tt0372784     movie                                      Batman Begins   \n",
       "7887   tt0361748     movie                               Inglourious Basterds   \n",
       "\n",
       "                                           originalTitle isAdult  startYear  \\\n",
       "17184                                    The Dark Knight       0       2008   \n",
       "53254                                          Inception       0       2010   \n",
       "21884                                       Interstellar       0       2014   \n",
       "51     The Lord of the Rings: The Fellowship of the Ring       0       2001   \n",
       "185        The Lord of the Rings: The Return of the King       0       2003   \n",
       "51339                              The Dark Knight Rises       0       2012   \n",
       "186                The Lord of the Rings: The Two Towers       0       2002   \n",
       "78228                                   Django Unchained       0       2012   \n",
       "8881                                       Batman Begins       0       2005   \n",
       "7887                                Inglourious Basterds       0       2009   \n",
       "\n",
       "      endYear runtimeMinutes                       genres  averageRating  \\\n",
       "17184      \\N            152       [Action, Crime, Drama]            9.0   \n",
       "53254      \\N            148  [Action, Adventure, Sci-Fi]            8.8   \n",
       "21884      \\N            169   [Adventure, Drama, Sci-Fi]            8.7   \n",
       "51         \\N            178   [Action, Adventure, Drama]            8.8   \n",
       "185        \\N            201   [Action, Adventure, Drama]            9.0   \n",
       "51339      \\N            164    [Action, Drama, Thriller]            8.4   \n",
       "186        \\N            179   [Action, Adventure, Drama]            8.8   \n",
       "78228      \\N            165             [Drama, Western]            8.5   \n",
       "8881       \\N            140       [Action, Crime, Drama]            8.2   \n",
       "7887       \\N            153      [Adventure, Drama, War]            8.3   \n",
       "\n",
       "       numVotes  \n",
       "17184   2780231  \n",
       "53254   2468126  \n",
       "21884   1988554  \n",
       "51      1944643  \n",
       "185     1916434  \n",
       "51339   1775988  \n",
       "186     1729339  \n",
       "78228   1634586  \n",
       "8881    1534316  \n",
       "7887    1524621  "
      ]
     },
     "execution_count": 373,
     "metadata": {},
     "output_type": "execute_result"
    }
   ],
   "source": [
    "movies_with_ratings.sort_values(by='numVotes', ascending=False).head(10)"
   ]
  },
  {
   "cell_type": "markdown",
   "metadata": {},
   "source": [
    "### How many movies don't have ratings?"
   ]
  },
  {
   "cell_type": "code",
   "execution_count": 380,
   "metadata": {},
   "outputs": [
    {
     "data": {
      "text/plain": [
       "True"
      ]
     },
     "execution_count": 380,
     "metadata": {},
     "output_type": "execute_result"
    }
   ],
   "source": [
    "# It looks like some movies are lost through the join. The join performed previously is an \"inner\" join\n",
    "len(movies_with_ratings) == len(movies)"
   ]
  },
  {
   "cell_type": "code",
   "execution_count": 381,
   "metadata": {},
   "outputs": [
    {
     "data": {
      "text/plain": [
       "True"
      ]
     },
     "execution_count": 381,
     "metadata": {},
     "output_type": "execute_result"
    }
   ],
   "source": [
    "movies_with_ratings = movies.merge(ratings, on='tconst', how='left')\n",
    "len(movies_with_ratings) == len(movies_with_ratings)"
   ]
  },
  {
   "cell_type": "code",
   "execution_count": 385,
   "metadata": {},
   "outputs": [
    {
     "data": {
      "text/plain": [
       "(139181, 11)"
      ]
     },
     "execution_count": 385,
     "metadata": {},
     "output_type": "execute_result"
    }
   ],
   "source": [
    "movies_with_ratings[movies_with_ratings['averageRating'].isnull()].shape"
   ]
  },
  {
   "cell_type": "markdown",
   "metadata": {},
   "source": [
    "### Filter long-running movies"
   ]
  },
  {
   "cell_type": "code",
   "execution_count": 60,
   "metadata": {},
   "outputs": [],
   "source": [
    "movies = pd.read_csv('./data/top_voted.tsv', sep='\\t', header=0)"
   ]
  },
  {
   "cell_type": "code",
   "execution_count": 70,
   "metadata": {},
   "outputs": [
    {
     "data": {
      "text/html": [
       "<div>\n",
       "<style scoped>\n",
       "    .dataframe tbody tr th:only-of-type {\n",
       "        vertical-align: middle;\n",
       "    }\n",
       "\n",
       "    .dataframe tbody tr th {\n",
       "        vertical-align: top;\n",
       "    }\n",
       "\n",
       "    .dataframe thead th {\n",
       "        text-align: right;\n",
       "    }\n",
       "</style>\n",
       "<table border=\"1\" class=\"dataframe\">\n",
       "  <thead>\n",
       "    <tr style=\"text-align: right;\">\n",
       "      <th></th>\n",
       "      <th>tconst</th>\n",
       "      <th>titleType</th>\n",
       "      <th>primaryTitle</th>\n",
       "      <th>originalTitle</th>\n",
       "      <th>isAdult</th>\n",
       "      <th>startYear</th>\n",
       "      <th>endYear</th>\n",
       "      <th>runtimeMinutes</th>\n",
       "      <th>genres</th>\n",
       "    </tr>\n",
       "  </thead>\n",
       "  <tbody>\n",
       "    <tr>\n",
       "      <th>0</th>\n",
       "      <td>tt0111161</td>\n",
       "      <td>movie</td>\n",
       "      <td>The Shawshank Redemption</td>\n",
       "      <td>The Shawshank Redemption</td>\n",
       "      <td>0</td>\n",
       "      <td>1994</td>\n",
       "      <td>\\N</td>\n",
       "      <td>142</td>\n",
       "      <td>Drama</td>\n",
       "    </tr>\n",
       "    <tr>\n",
       "      <th>1</th>\n",
       "      <td>tt0468569</td>\n",
       "      <td>movie</td>\n",
       "      <td>The Dark Knight</td>\n",
       "      <td>The Dark Knight</td>\n",
       "      <td>0</td>\n",
       "      <td>2008</td>\n",
       "      <td>\\N</td>\n",
       "      <td>152</td>\n",
       "      <td>Action,Crime,Drama</td>\n",
       "    </tr>\n",
       "    <tr>\n",
       "      <th>2</th>\n",
       "      <td>tt1375666</td>\n",
       "      <td>movie</td>\n",
       "      <td>Inception</td>\n",
       "      <td>Inception</td>\n",
       "      <td>0</td>\n",
       "      <td>2010</td>\n",
       "      <td>\\N</td>\n",
       "      <td>148</td>\n",
       "      <td>Action,Adventure,Sci-Fi</td>\n",
       "    </tr>\n",
       "    <tr>\n",
       "      <th>3</th>\n",
       "      <td>tt0137523</td>\n",
       "      <td>movie</td>\n",
       "      <td>Fight Club</td>\n",
       "      <td>Fight Club</td>\n",
       "      <td>0</td>\n",
       "      <td>1999</td>\n",
       "      <td>\\N</td>\n",
       "      <td>139</td>\n",
       "      <td>Drama</td>\n",
       "    </tr>\n",
       "    <tr>\n",
       "      <th>4</th>\n",
       "      <td>tt0109830</td>\n",
       "      <td>movie</td>\n",
       "      <td>Forrest Gump</td>\n",
       "      <td>Forrest Gump</td>\n",
       "      <td>0</td>\n",
       "      <td>1994</td>\n",
       "      <td>\\N</td>\n",
       "      <td>142</td>\n",
       "      <td>Drama,Romance</td>\n",
       "    </tr>\n",
       "    <tr>\n",
       "      <th>...</th>\n",
       "      <td>...</td>\n",
       "      <td>...</td>\n",
       "      <td>...</td>\n",
       "      <td>...</td>\n",
       "      <td>...</td>\n",
       "      <td>...</td>\n",
       "      <td>...</td>\n",
       "      <td>...</td>\n",
       "      <td>...</td>\n",
       "    </tr>\n",
       "    <tr>\n",
       "      <th>9989</th>\n",
       "      <td>tt15680228</td>\n",
       "      <td>movie</td>\n",
       "      <td>Bheed</td>\n",
       "      <td>Bheed</td>\n",
       "      <td>0</td>\n",
       "      <td>2023</td>\n",
       "      <td>\\N</td>\n",
       "      <td>124</td>\n",
       "      <td>Drama,History</td>\n",
       "    </tr>\n",
       "    <tr>\n",
       "      <th>9990</th>\n",
       "      <td>tt0099426</td>\n",
       "      <td>movie</td>\n",
       "      <td>Bullet in the Head</td>\n",
       "      <td>Dip huet gai tau</td>\n",
       "      <td>0</td>\n",
       "      <td>1990</td>\n",
       "      <td>\\N</td>\n",
       "      <td>136</td>\n",
       "      <td>Action,Crime,Drama</td>\n",
       "    </tr>\n",
       "    <tr>\n",
       "      <th>9994</th>\n",
       "      <td>tt5456546</td>\n",
       "      <td>movie</td>\n",
       "      <td>Judwaa 2</td>\n",
       "      <td>Judwaa 2</td>\n",
       "      <td>0</td>\n",
       "      <td>2017</td>\n",
       "      <td>\\N</td>\n",
       "      <td>145</td>\n",
       "      <td>Action,Comedy</td>\n",
       "    </tr>\n",
       "    <tr>\n",
       "      <th>9996</th>\n",
       "      <td>tt6793580</td>\n",
       "      <td>movie</td>\n",
       "      <td>Champions</td>\n",
       "      <td>Campeones</td>\n",
       "      <td>0</td>\n",
       "      <td>2018</td>\n",
       "      <td>\\N</td>\n",
       "      <td>124</td>\n",
       "      <td>Comedy,Drama,Family</td>\n",
       "    </tr>\n",
       "    <tr>\n",
       "      <th>9999</th>\n",
       "      <td>tt13446168</td>\n",
       "      <td>movie</td>\n",
       "      <td>The Medium</td>\n",
       "      <td>Rang zong</td>\n",
       "      <td>0</td>\n",
       "      <td>2021</td>\n",
       "      <td>\\N</td>\n",
       "      <td>130</td>\n",
       "      <td>Horror</td>\n",
       "    </tr>\n",
       "  </tbody>\n",
       "</table>\n",
       "<p>2453 rows × 9 columns</p>\n",
       "</div>"
      ],
      "text/plain": [
       "          tconst titleType              primaryTitle  \\\n",
       "0      tt0111161     movie  The Shawshank Redemption   \n",
       "1      tt0468569     movie           The Dark Knight   \n",
       "2      tt1375666     movie                 Inception   \n",
       "3      tt0137523     movie                Fight Club   \n",
       "4      tt0109830     movie              Forrest Gump   \n",
       "...          ...       ...                       ...   \n",
       "9989  tt15680228     movie                     Bheed   \n",
       "9990   tt0099426     movie        Bullet in the Head   \n",
       "9994   tt5456546     movie                  Judwaa 2   \n",
       "9996   tt6793580     movie                 Champions   \n",
       "9999  tt13446168     movie                The Medium   \n",
       "\n",
       "                 originalTitle  isAdult  startYear endYear  runtimeMinutes  \\\n",
       "0     The Shawshank Redemption        0       1994      \\N             142   \n",
       "1              The Dark Knight        0       2008      \\N             152   \n",
       "2                    Inception        0       2010      \\N             148   \n",
       "3                   Fight Club        0       1999      \\N             139   \n",
       "4                 Forrest Gump        0       1994      \\N             142   \n",
       "...                        ...      ...        ...     ...             ...   \n",
       "9989                     Bheed        0       2023      \\N             124   \n",
       "9990          Dip huet gai tau        0       1990      \\N             136   \n",
       "9994                  Judwaa 2        0       2017      \\N             145   \n",
       "9996                 Campeones        0       2018      \\N             124   \n",
       "9999                 Rang zong        0       2021      \\N             130   \n",
       "\n",
       "                       genres  \n",
       "0                       Drama  \n",
       "1          Action,Crime,Drama  \n",
       "2     Action,Adventure,Sci-Fi  \n",
       "3                       Drama  \n",
       "4               Drama,Romance  \n",
       "...                       ...  \n",
       "9989            Drama,History  \n",
       "9990       Action,Crime,Drama  \n",
       "9994            Action,Comedy  \n",
       "9996      Comedy,Drama,Family  \n",
       "9999                   Horror  \n",
       "\n",
       "[2453 rows x 9 columns]"
      ]
     },
     "execution_count": 70,
     "metadata": {},
     "output_type": "execute_result"
    }
   ],
   "source": [
    "movies.loc[movies['runtimeMinutes']=='\\\\N', 'runtimeMinutes'] = pd.NA\n",
    "\n",
    "# alternatively pd.to_numeric(movies['runtimeMinutes'])\n",
    "movies['runtimeMinutes'] = movies['runtimeMinutes'].astype(pd.Int64Dtype())\n",
    "\n",
    "movies[movies['runtimeMinutes'] > 120]"
   ]
  },
  {
   "cell_type": "code",
   "execution_count": 55,
   "metadata": {},
   "outputs": [],
   "source": [
    "movies['runtimeMinutes'] = movies['runtimeMinutes'].astype(pd.Int64Dtype())\n",
    "#pd.to_numeric(movies['runtimeMinutes'])"
   ]
  },
  {
   "cell_type": "markdown",
   "metadata": {},
   "source": [
    "### Movie ratings\n",
    "1. The mov"
   ]
  },
  {
   "cell_type": "code",
   "execution_count": 78,
   "metadata": {},
   "outputs": [],
   "source": [
    "movies = movies.merge(ratings, on='tconst').sort_values('averageRating', ascending=False)"
   ]
  },
  {
   "cell_type": "code",
   "execution_count": 87,
   "metadata": {},
   "outputs": [
    {
     "data": {
      "text/html": [
       "<div>\n",
       "<style scoped>\n",
       "    .dataframe tbody tr th:only-of-type {\n",
       "        vertical-align: middle;\n",
       "    }\n",
       "\n",
       "    .dataframe tbody tr th {\n",
       "        vertical-align: top;\n",
       "    }\n",
       "\n",
       "    .dataframe thead th {\n",
       "        text-align: right;\n",
       "    }\n",
       "</style>\n",
       "<table border=\"1\" class=\"dataframe\">\n",
       "  <thead>\n",
       "    <tr style=\"text-align: right;\">\n",
       "      <th></th>\n",
       "      <th>tconst</th>\n",
       "      <th>titleType</th>\n",
       "      <th>primaryTitle</th>\n",
       "      <th>originalTitle</th>\n",
       "      <th>isAdult</th>\n",
       "      <th>startYear</th>\n",
       "      <th>endYear</th>\n",
       "      <th>runtimeMinutes</th>\n",
       "      <th>genres</th>\n",
       "      <th>averageRating</th>\n",
       "      <th>numVotes</th>\n",
       "    </tr>\n",
       "  </thead>\n",
       "  <tbody>\n",
       "    <tr>\n",
       "      <th>28</th>\n",
       "      <td>tt0499549</td>\n",
       "      <td>movie</td>\n",
       "      <td>Avatar</td>\n",
       "      <td>Avatar</td>\n",
       "      <td>0</td>\n",
       "      <td>2009</td>\n",
       "      <td>\\N</td>\n",
       "      <td>162</td>\n",
       "      <td>Action,Adventure,Fantasy</td>\n",
       "      <td>7.9</td>\n",
       "      <td>1360782</td>\n",
       "    </tr>\n",
       "    <tr>\n",
       "      <th>34</th>\n",
       "      <td>tt0120338</td>\n",
       "      <td>movie</td>\n",
       "      <td>Titanic</td>\n",
       "      <td>Titanic</td>\n",
       "      <td>0</td>\n",
       "      <td>1997</td>\n",
       "      <td>\\N</td>\n",
       "      <td>194</td>\n",
       "      <td>Drama,Romance</td>\n",
       "      <td>7.9</td>\n",
       "      <td>1246848</td>\n",
       "    </tr>\n",
       "    <tr>\n",
       "      <th>50</th>\n",
       "      <td>tt0371746</td>\n",
       "      <td>movie</td>\n",
       "      <td>Iron Man</td>\n",
       "      <td>Iron Man</td>\n",
       "      <td>0</td>\n",
       "      <td>2008</td>\n",
       "      <td>\\N</td>\n",
       "      <td>126</td>\n",
       "      <td>Action,Adventure,Sci-Fi</td>\n",
       "      <td>7.9</td>\n",
       "      <td>1097890</td>\n",
       "    </tr>\n",
       "    <tr>\n",
       "      <th>53</th>\n",
       "      <td>tt1431045</td>\n",
       "      <td>movie</td>\n",
       "      <td>Deadpool</td>\n",
       "      <td>Deadpool</td>\n",
       "      <td>0</td>\n",
       "      <td>2016</td>\n",
       "      <td>\\N</td>\n",
       "      <td>108</td>\n",
       "      <td>Action,Comedy</td>\n",
       "      <td>8.0</td>\n",
       "      <td>1088023</td>\n",
       "    </tr>\n",
       "    <tr>\n",
       "      <th>21</th>\n",
       "      <td>tt0848228</td>\n",
       "      <td>movie</td>\n",
       "      <td>The Avengers</td>\n",
       "      <td>The Avengers</td>\n",
       "      <td>0</td>\n",
       "      <td>2012</td>\n",
       "      <td>\\N</td>\n",
       "      <td>143</td>\n",
       "      <td>Action,Sci-Fi</td>\n",
       "      <td>8.0</td>\n",
       "      <td>1433072</td>\n",
       "    </tr>\n",
       "    <tr>\n",
       "      <th>...</th>\n",
       "      <td>...</td>\n",
       "      <td>...</td>\n",
       "      <td>...</td>\n",
       "      <td>...</td>\n",
       "      <td>...</td>\n",
       "      <td>...</td>\n",
       "      <td>...</td>\n",
       "      <td>...</td>\n",
       "      <td>...</td>\n",
       "      <td>...</td>\n",
       "      <td>...</td>\n",
       "    </tr>\n",
       "    <tr>\n",
       "      <th>31</th>\n",
       "      <td>tt0071562</td>\n",
       "      <td>movie</td>\n",
       "      <td>The Godfather Part II</td>\n",
       "      <td>The Godfather Part II</td>\n",
       "      <td>0</td>\n",
       "      <td>1974</td>\n",
       "      <td>\\N</td>\n",
       "      <td>202</td>\n",
       "      <td>Crime,Drama</td>\n",
       "      <td>9.0</td>\n",
       "      <td>1324649</td>\n",
       "    </tr>\n",
       "    <tr>\n",
       "      <th>10</th>\n",
       "      <td>tt0167260</td>\n",
       "      <td>movie</td>\n",
       "      <td>The Lord of the Rings: The Return of the King</td>\n",
       "      <td>The Lord of the Rings: The Return of the King</td>\n",
       "      <td>0</td>\n",
       "      <td>2003</td>\n",
       "      <td>\\N</td>\n",
       "      <td>201</td>\n",
       "      <td>Action,Adventure,Drama</td>\n",
       "      <td>9.0</td>\n",
       "      <td>1916679</td>\n",
       "    </tr>\n",
       "    <tr>\n",
       "      <th>1</th>\n",
       "      <td>tt0468569</td>\n",
       "      <td>movie</td>\n",
       "      <td>The Dark Knight</td>\n",
       "      <td>The Dark Knight</td>\n",
       "      <td>0</td>\n",
       "      <td>2008</td>\n",
       "      <td>\\N</td>\n",
       "      <td>152</td>\n",
       "      <td>Action,Crime,Drama</td>\n",
       "      <td>9.0</td>\n",
       "      <td>2780624</td>\n",
       "    </tr>\n",
       "    <tr>\n",
       "      <th>8</th>\n",
       "      <td>tt0068646</td>\n",
       "      <td>movie</td>\n",
       "      <td>The Godfather</td>\n",
       "      <td>The Godfather</td>\n",
       "      <td>0</td>\n",
       "      <td>1972</td>\n",
       "      <td>\\N</td>\n",
       "      <td>175</td>\n",
       "      <td>Crime,Drama</td>\n",
       "      <td>9.2</td>\n",
       "      <td>1950364</td>\n",
       "    </tr>\n",
       "    <tr>\n",
       "      <th>0</th>\n",
       "      <td>tt0111161</td>\n",
       "      <td>movie</td>\n",
       "      <td>The Shawshank Redemption</td>\n",
       "      <td>The Shawshank Redemption</td>\n",
       "      <td>0</td>\n",
       "      <td>1994</td>\n",
       "      <td>\\N</td>\n",
       "      <td>142</td>\n",
       "      <td>Drama</td>\n",
       "      <td>9.3</td>\n",
       "      <td>2799356</td>\n",
       "    </tr>\n",
       "  </tbody>\n",
       "</table>\n",
       "<p>69 rows × 11 columns</p>\n",
       "</div>"
      ],
      "text/plain": [
       "       tconst titleType                                   primaryTitle  \\\n",
       "28  tt0499549     movie                                         Avatar   \n",
       "34  tt0120338     movie                                        Titanic   \n",
       "50  tt0371746     movie                                       Iron Man   \n",
       "53  tt1431045     movie                                       Deadpool   \n",
       "21  tt0848228     movie                                   The Avengers   \n",
       "..        ...       ...                                            ...   \n",
       "31  tt0071562     movie                          The Godfather Part II   \n",
       "10  tt0167260     movie  The Lord of the Rings: The Return of the King   \n",
       "1   tt0468569     movie                                The Dark Knight   \n",
       "8   tt0068646     movie                                  The Godfather   \n",
       "0   tt0111161     movie                       The Shawshank Redemption   \n",
       "\n",
       "                                    originalTitle  isAdult  startYear endYear  \\\n",
       "28                                         Avatar        0       2009      \\N   \n",
       "34                                        Titanic        0       1997      \\N   \n",
       "50                                       Iron Man        0       2008      \\N   \n",
       "53                                       Deadpool        0       2016      \\N   \n",
       "21                                   The Avengers        0       2012      \\N   \n",
       "..                                            ...      ...        ...     ...   \n",
       "31                          The Godfather Part II        0       1974      \\N   \n",
       "10  The Lord of the Rings: The Return of the King        0       2003      \\N   \n",
       "1                                 The Dark Knight        0       2008      \\N   \n",
       "8                                   The Godfather        0       1972      \\N   \n",
       "0                        The Shawshank Redemption        0       1994      \\N   \n",
       "\n",
       "    runtimeMinutes                    genres  averageRating  numVotes  \n",
       "28             162  Action,Adventure,Fantasy            7.9   1360782  \n",
       "34             194             Drama,Romance            7.9   1246848  \n",
       "50             126   Action,Adventure,Sci-Fi            7.9   1097890  \n",
       "53             108             Action,Comedy            8.0   1088023  \n",
       "21             143             Action,Sci-Fi            8.0   1433072  \n",
       "..             ...                       ...            ...       ...  \n",
       "31             202               Crime,Drama            9.0   1324649  \n",
       "10             201    Action,Adventure,Drama            9.0   1916679  \n",
       "1              152        Action,Crime,Drama            9.0   2780624  \n",
       "8              175               Crime,Drama            9.2   1950364  \n",
       "0              142                     Drama            9.3   2799356  \n",
       "\n",
       "[69 rows x 11 columns]"
      ]
     },
     "execution_count": 87,
     "metadata": {},
     "output_type": "execute_result"
    }
   ],
   "source": [
    "movies[movies['numVotes'] > 1000000].sort_values('averageRating')"
   ]
  },
  {
   "cell_type": "code",
   "execution_count": 97,
   "metadata": {},
   "outputs": [
    {
     "data": {
      "text/plain": [
       "startYear\n",
       "2001    206\n",
       "2002    218\n",
       "2003    210\n",
       "2004    247\n",
       "2005    253\n",
       "2006    300\n",
       "2007    304\n",
       "2008    306\n",
       "2009    303\n",
       "2010    291\n",
       "2011    319\n",
       "2012    304\n",
       "2013    331\n",
       "2014    358\n",
       "2015    331\n",
       "2016    347\n",
       "2017    333\n",
       "2018    355\n",
       "2019    335\n",
       "2020    238\n",
       "2021    287\n",
       "2022    291\n",
       "2023    121\n",
       "dtype: int64"
      ]
     },
     "execution_count": 97,
     "metadata": {},
     "output_type": "execute_result"
    }
   ],
   "source": [
    "movies[movies['startYear'] > 2000].groupby('startYear').size()"
   ]
  },
  {
   "cell_type": "markdown",
   "metadata": {},
   "source": []
  }
 ],
 "metadata": {
  "kernelspec": {
   "display_name": ".venv",
   "language": "python",
   "name": "python3"
  },
  "language_info": {
   "codemirror_mode": {
    "name": "ipython",
    "version": 3
   },
   "file_extension": ".py",
   "mimetype": "text/x-python",
   "name": "python",
   "nbconvert_exporter": "python",
   "pygments_lexer": "ipython3",
   "version": "3.11.4"
  },
  "orig_nbformat": 4
 },
 "nbformat": 4,
 "nbformat_minor": 2
}
